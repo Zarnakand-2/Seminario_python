{
 "cells": [
  {
   "cell_type": "markdown",
   "metadata": {},
   "source": [
    "# Ejercicio de entrega."
   ]
  },
  {
   "cell_type": "markdown",
   "metadata": {},
   "source": [
    "10. Un club de hockey posee las estadísticas de todxs sus jugadorxs de la última\n",
    " temporada jugada del torneo de hockey mixto. Poseen una lista con los nombres, otra\n",
    "con los goles a favor, otra con los goles evitados y la última con las asistencias\n",
    " realizadas. El club está por otorgar los premios de cierre de temporada y necesita:\n",
    "\n",
    " 1. Generar una estructura todas las estadísticas asociadas a cada jugador o\n",
    " jugadora.\n",
    "\n",
    " 2. Conocer el nombre y la cantidad de goles del goleador o goleadora.\n",
    "\n",
    " 3. Conocer el nombre del jugador o jugadora más influyente, esto se consigue\n",
    " sumando goles a favor, goles evitados y cantidad de asistencias. La particularidad\n",
    " es que los goles a favor, evitados y las asistencias NO valen lo mismo (es un\n",
    " promedio ponderado):\n",
    "\n",
    " goles a favor 1.5\n",
    " goles en evitados 1.25\n",
    " asistencias 1\n",
    "\n",
    " 4. Conocer el promedio de goles por partido del equipo en general. Dato: Se jugaron\n",
    " 25 partidos en la temporada.\n",
    "\n",
    " 5. Conocer el promedio de goles por partido del goleador o goleadora. Dato: Se\n",
    " jugaron 25 partidos en la temporada.\n",
    "\n",
    " Nota:\n",
    " Las 4 estructuras están ordenadas de forma que los elementos en la misma\n",
    " posición corresponden a un mismo jugador o jugadora.\n",
    "\n",
    " Realizar funciones con cada ítem\n",
    " \n",
    " Código:\n",
    " names = \"\"\" Agustin, Yanina, Andrés, Ariadna, Bautista, CAROLINA, \n",
    "CESAR, David, Diego, Dolores, DYLAN, ELIANA, Emanuel, Fabián, Noelia, \n",
    "Francsica', FEDERICO, Fernanda, GONZALO, Nancy \"\"\"\n",
    " goals = [0, 10, 4, 0, 5, 14, 0, 0, 7, 2, 1, 1, 1, 5, 6, 1, 1, 2, 0, \n",
    "11]\n",
    " goals_avoided = [0, 2, 0, 0, 5, 2, 0, 0, 1, 2, 0, 5, 5, 0, 1, 0, 2, \n",
    "3, 0, 0]\n",
    " assists = [0, 5, 1, 0, 5, 2, 0, 0, 1, 2, 1, 5, 5, 0, 1, 0, 2, 3, 1, \n",
    "0]"
   ]
  },
  {
   "cell_type": "markdown",
   "metadata": {},
   "source": [
    "### Importo las funciones que resuelven los incisos."
   ]
  },
  {
   "cell_type": "code",
   "execution_count": 58,
   "metadata": {},
   "outputs": [],
   "source": [
    "import Funciones"
   ]
  },
  {
   "cell_type": "markdown",
   "metadata": {},
   "source": [
    "### Genero la estructura con las estadisticas asociadas a cada jugador/a utilizando un diccionario de diccionarios."
   ]
  },
  {
   "cell_type": "code",
   "execution_count": 59,
   "metadata": {},
   "outputs": [
    {
     "name": "stdout",
     "output_type": "stream",
     "text": [
      "{'Agustin': {'goles': 0, 'goles evitados': 0, 'asistencias': 0}, 'Yanina': {'goles': 10, 'goles evitados': 2, 'asistencias': 5}, 'Andrés': {'goles': 4, 'goles evitados': 0, 'asistencias': 1}, 'Ariadna': {'goles': 0, 'goles evitados': 0, 'asistencias': 0}, 'Bautista': {'goles': 5, 'goles evitados': 5, 'asistencias': 5}, 'CAROLINA': {'goles': 14, 'goles evitados': 2, 'asistencias': 2}, 'CESAR': {'goles': 0, 'goles evitados': 0, 'asistencias': 0}, 'David': {'goles': 0, 'goles evitados': 0, 'asistencias': 0}, 'Diego': {'goles': 7, 'goles evitados': 1, 'asistencias': 1}, 'Dolores': {'goles': 2, 'goles evitados': 2, 'asistencias': 2}, 'DYLAN': {'goles': 1, 'goles evitados': 0, 'asistencias': 1}, 'ELIANA': {'goles': 1, 'goles evitados': 5, 'asistencias': 5}, 'Emanuel': {'goles': 1, 'goles evitados': 5, 'asistencias': 5}, 'Fabián': {'goles': 5, 'goles evitados': 0, 'asistencias': 0}, 'Noelia': {'goles': 6, 'goles evitados': 1, 'asistencias': 1}, \"Francsica'\": {'goles': 1, 'goles evitados': 0, 'asistencias': 0}, 'FEDERICO': {'goles': 1, 'goles evitados': 2, 'asistencias': 2}, 'Fernanda': {'goles': 2, 'goles evitados': 3, 'asistencias': 3}, 'GONZALO': {'goles': 0, 'goles evitados': 0, 'asistencias': 1}, 'Nancy': {'goles': 11, 'goles evitados': 0, 'asistencias': 0}}\n"
     ]
    }
   ],
   "source": [
    "jugadores = Funciones.inciso_a()\n",
    "print (jugadores)"
   ]
  },
  {
   "cell_type": "markdown",
   "metadata": {},
   "source": [
    "###  2. Conocer el nombre y la cantidad de goles del goleador o goleadora."
   ]
  },
  {
   "cell_type": "code",
   "execution_count": 60,
   "metadata": {},
   "outputs": [],
   "source": [
    "def inciso_b(jugadores):\n",
    "    max_goles = -1\n",
    "    goleador = \"\"\n",
    "    for jugador, datos in jugadores.items():\n",
    "        if (datos[\"goles\"] > max_goles):\n",
    "            max_goles = datos[\"goles\"]\n",
    "            goleador = jugador\n",
    "    return goleador, max_goles"
   ]
  },
  {
   "cell_type": "markdown",
   "metadata": {},
   "source": [
    "### Busco al goleador en el equipo y lo informo"
   ]
  },
  {
   "cell_type": "code",
   "execution_count": 61,
   "metadata": {},
   "outputs": [
    {
     "name": "stdout",
     "output_type": "stream",
     "text": [
      "El goleador es CAROLINA con 14 goles.\n"
     ]
    }
   ],
   "source": [
    "goleador, goles = inciso_b(jugadores)\n",
    "print (f\"El goleador es {goleador} con {goles} goles.\")"
   ]
  },
  {
   "cell_type": "markdown",
   "metadata": {},
   "source": [
    "### 3. Conocer el nombre del jugador o jugadora más influyente, esto se consigue\n",
    " sumando goles a favor, goles evitados y cantidad de asistencias. La particularidad\n",
    " es que los goles a favor, evitados y las asistencias NO valen lo mismo (es un\n",
    " promedio ponderado)"
   ]
  },
  {
   "cell_type": "code",
   "execution_count": 62,
   "metadata": {},
   "outputs": [],
   "source": [
    "def inciso_c(jugadores):\n",
    "    max_prom = -1\n",
    "    mas_influyente = \"\"\n",
    "    for jugador, datos in jugadores.items():\n",
    "        promedio = (datos[goles] * 1.5) + (datos[\"goles evitados\"] * 1.25) + datos [\"asistencias\"]\n",
    "        if (promedio > max_prom):    \n",
    "            mas_influyente = jugador\n",
    "    return mas_influyente"
   ]
  },
  {
   "cell_type": "markdown",
   "metadata": {},
   "source": [
    "### Calculo el jugador mas influyente sacando el promedio entre goles, goles evitados y asistencias de todos los jugadores del equipo y lo informo."
   ]
  },
  {
   "cell_type": "code",
   "execution_count": 63,
   "metadata": {},
   "outputs": [
    {
     "ename": "KeyError",
     "evalue": "14",
     "output_type": "error",
     "traceback": [
      "\u001b[1;31m---------------------------------------------------------------------------\u001b[0m",
      "\u001b[1;31mKeyError\u001b[0m                                  Traceback (most recent call last)",
      "Cell \u001b[1;32mIn[63], line 1\u001b[0m\n\u001b[1;32m----> 1\u001b[0m jugador_mas_influyente \u001b[38;5;241m=\u001b[39m \u001b[43minciso_c\u001b[49m\u001b[43m(\u001b[49m\u001b[43mjugadores\u001b[49m\u001b[43m)\u001b[49m\n\u001b[0;32m      2\u001b[0m \u001b[38;5;28mprint\u001b[39m (\u001b[38;5;124mf\u001b[39m\u001b[38;5;124m\"\u001b[39m\u001b[38;5;124mEl jugador mas influyente es \u001b[39m\u001b[38;5;132;01m{\u001b[39;00mjugador_mas_influyente\u001b[38;5;132;01m}\u001b[39;00m\u001b[38;5;124m\"\u001b[39m)\n",
      "Cell \u001b[1;32mIn[62], line 5\u001b[0m, in \u001b[0;36minciso_c\u001b[1;34m(jugadores)\u001b[0m\n\u001b[0;32m      3\u001b[0m mas_influyente \u001b[38;5;241m=\u001b[39m \u001b[38;5;124m\"\u001b[39m\u001b[38;5;124m\"\u001b[39m\n\u001b[0;32m      4\u001b[0m \u001b[38;5;28;01mfor\u001b[39;00m jugador, datos \u001b[38;5;129;01min\u001b[39;00m jugadores\u001b[38;5;241m.\u001b[39mitems():\n\u001b[1;32m----> 5\u001b[0m     promedio \u001b[38;5;241m=\u001b[39m (\u001b[43mdatos\u001b[49m\u001b[43m[\u001b[49m\u001b[43mgoles\u001b[49m\u001b[43m]\u001b[49m \u001b[38;5;241m*\u001b[39m \u001b[38;5;241m1.5\u001b[39m) \u001b[38;5;241m+\u001b[39m (datos[\u001b[38;5;124m\"\u001b[39m\u001b[38;5;124mgoles evitados\u001b[39m\u001b[38;5;124m\"\u001b[39m] \u001b[38;5;241m*\u001b[39m \u001b[38;5;241m1.25\u001b[39m) \u001b[38;5;241m+\u001b[39m datos [\u001b[38;5;124m\"\u001b[39m\u001b[38;5;124masistencias\u001b[39m\u001b[38;5;124m\"\u001b[39m]\n\u001b[0;32m      6\u001b[0m     \u001b[38;5;28;01mif\u001b[39;00m (promedio \u001b[38;5;241m>\u001b[39m max_prom):    \n\u001b[0;32m      7\u001b[0m         mas_influyente \u001b[38;5;241m=\u001b[39m jugador\n",
      "\u001b[1;31mKeyError\u001b[0m: 14"
     ]
    }
   ],
   "source": [
    "jugador_mas_influyente = inciso_c(jugadores)\n",
    "print (f\"El jugador mas influyente es {jugador_mas_influyente}\")"
   ]
  },
  {
   "cell_type": "code",
   "execution_count": null,
   "metadata": {},
   "outputs": [],
   "source": []
  }
 ],
 "metadata": {
  "kernelspec": {
   "display_name": "venv",
   "language": "python",
   "name": "python3"
  },
  "language_info": {
   "codemirror_mode": {
    "name": "ipython",
    "version": 3
   },
   "file_extension": ".py",
   "mimetype": "text/x-python",
   "name": "python",
   "nbconvert_exporter": "python",
   "pygments_lexer": "ipython3",
   "version": "3.11.8"
  }
 },
 "nbformat": 4,
 "nbformat_minor": 2
}
