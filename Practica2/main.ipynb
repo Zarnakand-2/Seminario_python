{
 "cells": [
  {
   "cell_type": "markdown",
   "metadata": {},
   "source": [
    "# Ejercicio de entrega."
   ]
  },
  {
   "cell_type": "markdown",
   "metadata": {},
   "source": [
    "10. Un club de hockey posee las estadísticas de todxs sus jugadorxs de la última\n",
    " temporada jugada del torneo de hockey mixto. Poseen una lista con los nombres, otra\n",
    "con los goles a favor, otra con los goles evitados y la última con las asistencias\n",
    " realizadas. El club está por otorgar los premios de cierre de temporada y necesita:\n",
    "\n",
    " 1. Generar una estructura todas las estadísticas asociadas a cada jugador o\n",
    " jugadora.\n",
    "\n",
    " 2. Conocer el nombre y la cantidad de goles del goleador o goleadora.\n",
    "\n",
    " 3. Conocer el nombre del jugador o jugadora más influyente, esto se consigue\n",
    " sumando goles a favor, goles evitados y cantidad de asistencias. La particularidad\n",
    " es que los goles a favor, evitados y las asistencias NO valen lo mismo (es un\n",
    " promedio ponderado):\n",
    "\n",
    " goles a favor 1.5\n",
    " goles en evitados 1.25\n",
    " asistencias 1\n",
    "\n",
    " 4. Conocer el promedio de goles por partido del equipo en general. Dato: Se jugaron\n",
    " 25 partidos en la temporada.\n",
    "\n",
    " 5. Conocer el promedio de goles por partido del goleador o goleadora. Dato: Se\n",
    " jugaron 25 partidos en la temporada.\n",
    "\n",
    " Nota:\n",
    " Las 4 estructuras están ordenadas de forma que los elementos en la misma\n",
    " posición corresponden a un mismo jugador o jugadora.\n",
    "\n",
    " Realizar funciones con cada ítem\n",
    " \n",
    " Código:\n",
    " names = \"\"\" Agustin, Yanina, Andrés, Ariadna, Bautista, CAROLINA, \n",
    "CESAR, David, Diego, Dolores, DYLAN, ELIANA, Emanuel, Fabián, Noelia, \n",
    "Francsica', FEDERICO, Fernanda, GONZALO, Nancy \"\"\"\n",
    " goals = [0, 10, 4, 0, 5, 14, 0, 0, 7, 2, 1, 1, 1, 5, 6, 1, 1, 2, 0, \n",
    "11]\n",
    " goals_avoided = [0, 2, 0, 0, 5, 2, 0, 0, 1, 2, 0, 5, 5, 0, 1, 0, 2, \n",
    "3, 0, 0]\n",
    " assists = [0, 5, 1, 0, 5, 2, 0, 0, 1, 2, 1, 5, 5, 0, 1, 0, 2, 3, 1, \n",
    "0]"
   ]
  },
  {
   "cell_type": "markdown",
   "metadata": {},
   "source": [
    "### Importo las funciones que resuelven los incisos."
   ]
  },
  {
   "cell_type": "code",
   "execution_count": 7,
   "metadata": {},
   "outputs": [],
   "source": [
    "import Funciones"
   ]
  },
  {
   "cell_type": "markdown",
   "metadata": {},
   "source": [
    "### Genero la estructura con las estadisticas asociadas a cada jugador/a utilizando un diccionario de diccionarios."
   ]
  },
  {
   "cell_type": "code",
   "execution_count": 8,
   "metadata": {},
   "outputs": [
    {
     "name": "stdout",
     "output_type": "stream",
     "text": [
      "{'Agustin,': {'goles': 0, 'goles evitados': 0, 'asistencias': 0}, 'Yanina,': {'goles': 10, 'goles evitados': 2, 'asistencias': 5}, 'Andrés,': {'goles': 4, 'goles evitados': 0, 'asistencias': 1}, 'Ariadna,': {'goles': 0, 'goles evitados': 0, 'asistencias': 0}, 'Bautista,': {'goles': 5, 'goles evitados': 5, 'asistencias': 5}, 'CAROLINA,': {'goles': 14, 'goles evitados': 2, 'asistencias': 2}, 'CESAR,': {'goles': 0, 'goles evitados': 0, 'asistencias': 0}, 'David,': {'goles': 0, 'goles evitados': 0, 'asistencias': 0}, 'Diego,': {'goles': 7, 'goles evitados': 1, 'asistencias': 1}, 'Dolores,': {'goles': 2, 'goles evitados': 2, 'asistencias': 2}, 'DYLAN,': {'goles': 1, 'goles evitados': 0, 'asistencias': 1}, 'ELIANA,': {'goles': 1, 'goles evitados': 5, 'asistencias': 5}, 'Emanuel,': {'goles': 1, 'goles evitados': 5, 'asistencias': 5}, 'Fabián,': {'goles': 5, 'goles evitados': 0, 'asistencias': 0}, 'Noelia,': {'goles': 6, 'goles evitados': 1, 'asistencias': 1}, \"Francsica',\": {'goles': 1, 'goles evitados': 0, 'asistencias': 0}, 'FEDERICO,': {'goles': 1, 'goles evitados': 2, 'asistencias': 2}, 'Fernanda,': {'goles': 2, 'goles evitados': 3, 'asistencias': 3}, 'GONZALO,': {'goles': 0, 'goles evitados': 0, 'asistencias': 1}, 'Nancy': {'goles': 11, 'goles evitados': 0, 'asistencias': 0}}\n"
     ]
    }
   ],
   "source": [
    "jugadores = Funciones.inciso_a()\n",
    "print (jugadores)"
   ]
  },
  {
   "cell_type": "markdown",
   "metadata": {},
   "source": [
    "### Busco al goleador en el equipo y lo informo"
   ]
  },
  {
   "cell_type": "code",
   "execution_count": 9,
   "metadata": {},
   "outputs": [
    {
     "name": "stdout",
     "output_type": "stream",
     "text": [
      "El goleador es CAROLINA, con 14 goles.\n"
     ]
    }
   ],
   "source": [
    "goleador, golesGoleador = Funciones.inciso_b(jugadores)\n",
    "print (f\"El goleador es {goleador} con {golesGoleador} goles.\")"
   ]
  },
  {
   "cell_type": "markdown",
   "metadata": {},
   "source": [
    "### Calculo el jugador mas influyente sacando el promedio entre goles, goles evitados y asistencias de todos los jugadores del equipo y lo informo."
   ]
  },
  {
   "cell_type": "code",
   "execution_count": 10,
   "metadata": {},
   "outputs": [
    {
     "name": "stdout",
     "output_type": "stream",
     "text": [
      "El jugador mas influyente es CAROLINA,\n"
     ]
    }
   ],
   "source": [
    "jugador_mas_influyente = Funciones.inciso_c(jugadores)\n",
    "print (f\"El jugador mas influyente es {jugador_mas_influyente}\")"
   ]
  },
  {
   "cell_type": "markdown",
   "metadata": {},
   "source": [
    "### Calculo el promedio de goles del equipo (en 25 partidos)"
   ]
  },
  {
   "cell_type": "code",
   "execution_count": 11,
   "metadata": {},
   "outputs": [
    {
     "name": "stdout",
     "output_type": "stream",
     "text": [
      "El promedio de goles del equipo es = 2.84\n"
     ]
    }
   ],
   "source": [
    "Promedio_goles_equipo = Funciones.inciso_d(jugadores)\n",
    "print (f\"El promedio de goles del equipo es = {Promedio_goles_equipo}\")"
   ]
  },
  {
   "cell_type": "markdown",
   "metadata": {},
   "source": [
    "###  5. Conocer el promedio de goles por partido del goleador o goleadora. Dato: Se jugaron 25 partidos en la temporada.\n",
    "Calculo el promedio de goles del goleador"
   ]
  },
  {
   "cell_type": "code",
   "execution_count": 12,
   "metadata": {},
   "outputs": [
    {
     "name": "stdout",
     "output_type": "stream",
     "text": [
      "El promedio de goles del goleador CAROLINA, es = 0.56\n"
     ]
    }
   ],
   "source": [
    "promedioGoleador = golesGoleador/25\n",
    "print (f\"El promedio de goles del goleador {goleador} es = {promedioGoleador}\")"
   ]
  }
 ],
 "metadata": {
  "kernelspec": {
   "display_name": "venv",
   "language": "python",
   "name": "python3"
  },
  "language_info": {
   "codemirror_mode": {
    "name": "ipython",
    "version": 3
   },
   "file_extension": ".py",
   "mimetype": "text/x-python",
   "name": "python",
   "nbconvert_exporter": "python",
   "pygments_lexer": "ipython3",
   "version": "3.11.8"
  }
 },
 "nbformat": 4,
 "nbformat_minor": 2
}
